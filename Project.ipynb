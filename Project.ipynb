{
  "nbformat": 4,
  "nbformat_minor": 0,
  "metadata": {
    "colab": {
      "provenance": []
    },
    "kernelspec": {
      "name": "python3",
      "display_name": "Python 3"
    },
    "language_info": {
      "name": "python"
    }
  },
  "cells": [
    {
      "cell_type": "markdown",
      "source": [
        "**import**"
      ],
      "metadata": {
        "id": "ndMLsZV_oD6M"
      }
    },
    {
      "cell_type": "code",
      "source": [
        "import sys\n",
        "from collections import Counter, OrderedDict\n",
        "import itertools\n",
        "from itertools import islice, count, groupby\n",
        "import pandas as pd\n",
        "import os\n",
        "import re\n",
        "from operator import itemgetter\n",
        "import nltk\n",
        "from nltk.stem.porter import *\n",
        "from nltk.corpus import stopwords\n",
        "from time import time\n",
        "from timeit import timeit\n",
        "from pathlib import Path\n",
        "import pickle\n",
        "import pandas as pd\n",
        "import numpy as np\n",
        "from google.cloud import storage\n",
        "import math\n",
        "\n",
        "\n",
        "import hashlib\n",
        "def _hash(s):\n",
        "    return hashlib.blake2b(bytes(s, encoding='utf8'), digest_size=5).hexdigest()\n",
        "\n",
        "nltk.download('stopwords')\n",
        "\n",
        "from inverted_index_colab import *"
      ],
      "metadata": {
        "colab": {
          "base_uri": "https://localhost:8080/"
        },
        "id": "c_Mu48rWoLkL",
        "outputId": "5601e0cd-99ad-4080-99f7-19c239fa26dd"
      },
      "execution_count": 2,
      "outputs": [
        {
          "output_type": "stream",
          "name": "stderr",
          "text": [
            "[nltk_data] Downloading package stopwords to /root/nltk_data...\n",
            "[nltk_data]   Package stopwords is already up-to-date!\n"
          ]
        }
      ]
    },
    {
      "cell_type": "code",
      "source": [
        "# These will already be installed in the testing environment so disregard the\n",
        "# amount of time (~1 minute) it takes to install.\n",
        "!pip install -q pyspark\n",
        "!pip install -U -q PyDrive\n",
        "!apt install openjdk-8-jdk-headless -qq\n",
        "!pip install -q graphframes\n",
        "import os\n",
        "os.environ[\"JAVA_HOME\"] = \"/usr/lib/jvm/java-8-openjdk-amd64\"\n",
        "graphframes_jar = 'https://repos.spark-packages.org/graphframes/graphframes/0.8.2-spark3.2-s_2.12/graphframes-0.8.2-spark3.2-s_2.12.jar'\n",
        "spark_jars = '/usr/local/lib/python3.7/dist-packages/pyspark/jars'\n",
        "!wget -N -P $spark_jars $graphframes_jar"
      ],
      "metadata": {
        "id": "mA_krz78oYTP",
        "colab": {
          "base_uri": "https://localhost:8080/"
        },
        "outputId": "7831261c-5d64-48c7-9968-fb4ceb37d58a"
      },
      "execution_count": 3,
      "outputs": [
        {
          "output_type": "stream",
          "name": "stdout",
          "text": [
            "\u001b[2K     \u001b[90m━━━━━━━━━━━━━━━━━━━━━━━━━━━━━━━━━━━━━━━━\u001b[0m \u001b[32m316.9/316.9 MB\u001b[0m \u001b[31m3.7 MB/s\u001b[0m eta \u001b[36m0:00:00\u001b[0m\n",
            "\u001b[?25h  Preparing metadata (setup.py) ... \u001b[?25l\u001b[?25hdone\n",
            "  Building wheel for pyspark (setup.py) ... \u001b[?25l\u001b[?25hdone\n",
            "The following additional packages will be installed:\n",
            "  libxtst6 openjdk-8-jre-headless\n",
            "Suggested packages:\n",
            "  openjdk-8-demo openjdk-8-source libnss-mdns fonts-dejavu-extra fonts-nanum fonts-ipafont-gothic\n",
            "  fonts-ipafont-mincho fonts-wqy-microhei fonts-wqy-zenhei fonts-indic\n",
            "The following NEW packages will be installed:\n",
            "  libxtst6 openjdk-8-jdk-headless openjdk-8-jre-headless\n",
            "0 upgraded, 3 newly installed, 0 to remove and 35 not upgraded.\n",
            "Need to get 39.7 MB of archives.\n",
            "After this operation, 144 MB of additional disk space will be used.\n",
            "Selecting previously unselected package libxtst6:amd64.\n",
            "(Reading database ... 121749 files and directories currently installed.)\n",
            "Preparing to unpack .../libxtst6_2%3a1.2.3-1build4_amd64.deb ...\n",
            "Unpacking libxtst6:amd64 (2:1.2.3-1build4) ...\n",
            "Selecting previously unselected package openjdk-8-jre-headless:amd64.\n",
            "Preparing to unpack .../openjdk-8-jre-headless_8u392-ga-1~22.04_amd64.deb ...\n",
            "Unpacking openjdk-8-jre-headless:amd64 (8u392-ga-1~22.04) ...\n",
            "Selecting previously unselected package openjdk-8-jdk-headless:amd64.\n",
            "Preparing to unpack .../openjdk-8-jdk-headless_8u392-ga-1~22.04_amd64.deb ...\n",
            "Unpacking openjdk-8-jdk-headless:amd64 (8u392-ga-1~22.04) ...\n",
            "Setting up libxtst6:amd64 (2:1.2.3-1build4) ...\n",
            "Setting up openjdk-8-jre-headless:amd64 (8u392-ga-1~22.04) ...\n",
            "update-alternatives: using /usr/lib/jvm/java-8-openjdk-amd64/jre/bin/orbd to provide /usr/bin/orbd (orbd) in auto mode\n",
            "update-alternatives: using /usr/lib/jvm/java-8-openjdk-amd64/jre/bin/servertool to provide /usr/bin/servertool (servertool) in auto mode\n",
            "update-alternatives: using /usr/lib/jvm/java-8-openjdk-amd64/jre/bin/tnameserv to provide /usr/bin/tnameserv (tnameserv) in auto mode\n",
            "Setting up openjdk-8-jdk-headless:amd64 (8u392-ga-1~22.04) ...\n",
            "update-alternatives: using /usr/lib/jvm/java-8-openjdk-amd64/bin/clhsdb to provide /usr/bin/clhsdb (clhsdb) in auto mode\n",
            "update-alternatives: using /usr/lib/jvm/java-8-openjdk-amd64/bin/extcheck to provide /usr/bin/extcheck (extcheck) in auto mode\n",
            "update-alternatives: using /usr/lib/jvm/java-8-openjdk-amd64/bin/hsdb to provide /usr/bin/hsdb (hsdb) in auto mode\n",
            "update-alternatives: using /usr/lib/jvm/java-8-openjdk-amd64/bin/idlj to provide /usr/bin/idlj (idlj) in auto mode\n",
            "update-alternatives: using /usr/lib/jvm/java-8-openjdk-amd64/bin/javah to provide /usr/bin/javah (javah) in auto mode\n",
            "update-alternatives: using /usr/lib/jvm/java-8-openjdk-amd64/bin/jhat to provide /usr/bin/jhat (jhat) in auto mode\n",
            "update-alternatives: using /usr/lib/jvm/java-8-openjdk-amd64/bin/jsadebugd to provide /usr/bin/jsadebugd (jsadebugd) in auto mode\n",
            "update-alternatives: using /usr/lib/jvm/java-8-openjdk-amd64/bin/native2ascii to provide /usr/bin/native2ascii (native2ascii) in auto mode\n",
            "update-alternatives: using /usr/lib/jvm/java-8-openjdk-amd64/bin/schemagen to provide /usr/bin/schemagen (schemagen) in auto mode\n",
            "update-alternatives: using /usr/lib/jvm/java-8-openjdk-amd64/bin/wsgen to provide /usr/bin/wsgen (wsgen) in auto mode\n",
            "update-alternatives: using /usr/lib/jvm/java-8-openjdk-amd64/bin/wsimport to provide /usr/bin/wsimport (wsimport) in auto mode\n",
            "update-alternatives: using /usr/lib/jvm/java-8-openjdk-amd64/bin/xjc to provide /usr/bin/xjc (xjc) in auto mode\n",
            "Processing triggers for libc-bin (2.35-0ubuntu3.4) ...\n",
            "/sbin/ldconfig.real: /usr/local/lib/libtbb.so.12 is not a symbolic link\n",
            "\n",
            "/sbin/ldconfig.real: /usr/local/lib/libtbbbind.so.3 is not a symbolic link\n",
            "\n",
            "/sbin/ldconfig.real: /usr/local/lib/libtbbmalloc.so.2 is not a symbolic link\n",
            "\n",
            "/sbin/ldconfig.real: /usr/local/lib/libtbbbind_2_5.so.3 is not a symbolic link\n",
            "\n",
            "/sbin/ldconfig.real: /usr/local/lib/libtbbbind_2_0.so.3 is not a symbolic link\n",
            "\n",
            "/sbin/ldconfig.real: /usr/local/lib/libtbbmalloc_proxy.so.2 is not a symbolic link\n",
            "\n",
            "\u001b[2K     \u001b[90m━━━━━━━━━━━━━━━━━━━━━━━━━━━━━━━━━━━━━━━━\u001b[0m \u001b[32m154.7/154.7 kB\u001b[0m \u001b[31m3.1 MB/s\u001b[0m eta \u001b[36m0:00:00\u001b[0m\n",
            "\u001b[?25h--2024-02-23 15:00:07--  https://repos.spark-packages.org/graphframes/graphframes/0.8.2-spark3.2-s_2.12/graphframes-0.8.2-spark3.2-s_2.12.jar\n",
            "Resolving repos.spark-packages.org (repos.spark-packages.org)... 18.173.166.39, 18.173.166.117, 18.173.166.6, ...\n",
            "Connecting to repos.spark-packages.org (repos.spark-packages.org)|18.173.166.39|:443... connected.\n",
            "HTTP request sent, awaiting response... 200 OK\n",
            "Length: 247880 (242K) [binary/octet-stream]\n",
            "Saving to: ‘/usr/local/lib/python3.7/dist-packages/pyspark/jars/graphframes-0.8.2-spark3.2-s_2.12.jar’\n",
            "\n",
            "graphframes-0.8.2-s 100%[===================>] 242.07K  --.-KB/s    in 0.06s   \n",
            "\n",
            "2024-02-23 15:00:07 (4.03 MB/s) - ‘/usr/local/lib/python3.7/dist-packages/pyspark/jars/graphframes-0.8.2-spark3.2-s_2.12.jar’ saved [247880/247880]\n",
            "\n"
          ]
        }
      ]
    },
    {
      "cell_type": "markdown",
      "source": [
        "**pyspark**"
      ],
      "metadata": {
        "id": "yKKwbAO2obl6"
      }
    },
    {
      "cell_type": "code",
      "source": [
        "import pyspark\n",
        "from pyspark.sql import *\n",
        "from pyspark.sql.functions import *\n",
        "from pyspark import SparkContext, SparkConf\n",
        "from pyspark.sql import SQLContext\n",
        "from pyspark.ml.feature import Tokenizer, RegexTokenizer\n",
        "from graphframes import *"
      ],
      "metadata": {
        "id": "PVKnTWYGoe19"
      },
      "execution_count": 4,
      "outputs": []
    },
    {
      "cell_type": "code",
      "source": [
        "# Initializing spark context\n",
        "# create a spark context and session\n",
        "conf = SparkConf().set(\"spark.ui.port\", \"4050\")\n",
        "conf.set(\"spark.jars.packages\", \"graphframes:graphframes:0.8.2-spark3.2-s_2.12\")\n",
        "sc = pyspark.SparkContext(conf=conf)\n",
        "sc.addPyFile(str(Path(spark_jars) / Path(graphframes_jar).name))\n",
        "spark = SparkSession.builder.getOrCreate()"
      ],
      "metadata": {
        "id": "e_XgTjrlokT9"
      },
      "execution_count": 5,
      "outputs": []
    },
    {
      "cell_type": "code",
      "source": [
        "spark"
      ],
      "metadata": {
        "colab": {
          "base_uri": "https://localhost:8080/",
          "height": 219
        },
        "id": "IEb86WVLorx9",
        "outputId": "6129ea08-3abd-476c-a6d2-ba32b798123c"
      },
      "execution_count": null,
      "outputs": [
        {
          "output_type": "execute_result",
          "data": {
            "text/plain": [
              "<pyspark.sql.session.SparkSession at 0x7a1f57d4bbe0>"
            ],
            "text/html": [
              "\n",
              "            <div>\n",
              "                <p><b>SparkSession - in-memory</b></p>\n",
              "                \n",
              "        <div>\n",
              "            <p><b>SparkContext</b></p>\n",
              "\n",
              "            <p><a href=\"http://596f1c51f7e4:4050\">Spark UI</a></p>\n",
              "\n",
              "            <dl>\n",
              "              <dt>Version</dt>\n",
              "                <dd><code>v3.5.0</code></dd>\n",
              "              <dt>Master</dt>\n",
              "                <dd><code>local[*]</code></dd>\n",
              "              <dt>AppName</dt>\n",
              "                <dd><code>pyspark-shell</code></dd>\n",
              "            </dl>\n",
              "        </div>\n",
              "        \n",
              "            </div>\n",
              "        "
            ]
          },
          "metadata": {},
          "execution_count": 5
        }
      ]
    },
    {
      "cell_type": "markdown",
      "source": [
        "**copy wiki**"
      ],
      "metadata": {
        "id": "BEuWmZIgo3q5"
      }
    },
    {
      "cell_type": "code",
      "source": [
        "# Authenticate your user\n",
        "# The authentication should be done with the email connected to your GCP account\n",
        "from google.colab import auth\n",
        "import signal\n",
        "\n",
        "# AUTH_TIMEOUT = 30\n",
        "AUTH_TIMEOUT = 30000000\n",
        "\n",
        "def handler(signum, frame):\n",
        "  raise Exception(\"Authentication timeout!\")\n",
        "\n",
        "signal.signal(signal.SIGALRM, handler)\n",
        "signal.alarm(AUTH_TIMEOUT)\n",
        "\n",
        "try:\n",
        "   auth.authenticate_user()\n",
        "except:\n",
        "   pass"
      ],
      "metadata": {
        "id": "reQPzqOuo6tv"
      },
      "execution_count": 6,
      "outputs": []
    },
    {
      "cell_type": "code",
      "source": [
        "# Copy one wikidumps files\n",
        "import os\n",
        "from pathlib import Path\n",
        "from google.colab import auth\n",
        "## RENAME the project_id to yours project id from the project you created in GCP\n",
        "project_id = 'acoustic-cargo-414010'\n",
        "!gcloud config set project {project_id}\n",
        "\n",
        "data_bucket_name = 'noam209263805'\n",
        "try:\n",
        "    if os.environ[\"wikidata_preprocessed\"] is not None:\n",
        "        pass\n",
        "except:\n",
        "      !mkdir wikidumps\n",
        "      !gsutil -u {project_id} cp gs://{data_bucket_name}/multistream1_preprocessed.parquet \"wikidumps/\"\n"
      ],
      "metadata": {
        "colab": {
          "base_uri": "https://localhost:8080/"
        },
        "id": "XoBcE8dFo88Y",
        "outputId": "359392b5-eec8-4475-9cef-1184a13eec88"
      },
      "execution_count": 7,
      "outputs": [
        {
          "output_type": "stream",
          "name": "stdout",
          "text": [
            "Updated property [core/project].\n",
            "Copying gs://noam209263805/multistream1_preprocessed.parquet...\n",
            "==> NOTE: You are downloading one or more large file(s), which would\n",
            "run significantly faster if you enabled sliced object downloads. This\n",
            "feature is enabled by default but requires that compiled crcmod be\n",
            "installed (see \"gsutil help crcmod\").\n",
            "\n",
            "| [1 files][316.7 MiB/316.7 MiB]                                                \n",
            "Operation completed over 1 objects/316.7 MiB.                                    \n"
          ]
        }
      ]
    },
    {
      "cell_type": "code",
      "source": [
        "from pathlib import Path\n",
        "import os\n",
        "\n",
        "try:\n",
        "    if os.environ[\"wikidata_preprocessed\"] is not None:\n",
        "      path = os.environ[\"wikidata_preprocessed\"]+\"/wikidumps/*\"\n",
        "except:\n",
        "      path = \"wikidumps/*\"\n",
        "\n",
        "parquetFile = spark.read.parquet(path)\n",
        "# parquetFile.show()"
      ],
      "metadata": {
        "id": "H19MfK7dpCEA"
      },
      "execution_count": 8,
      "outputs": []
    },
    {
      "cell_type": "code",
      "source": [
        "# take the 'text' and 'id' or the first 1000 rows and create an RDD from it\n",
        "doc_text_pairs = parquetFile.limit(1000).select(\"text\", \"id\").rdd\n"
      ],
      "metadata": {
        "id": "4qOsGc0ECaXC"
      },
      "execution_count": 9,
      "outputs": []
    },
    {
      "cell_type": "markdown",
      "source": [
        "###  **Text & Query Preprocces**\n",
        "\n"
      ],
      "metadata": {
        "id": "HxdiAFPO3ggr"
      }
    },
    {
      "cell_type": "code",
      "source": [
        "# stop words\n",
        "\n",
        "english_stopwords = frozenset(stopwords.words('english'))\n",
        "corpus_stopwords = ['category', 'references', 'also', 'links', 'extenal', 'see', 'thumb']\n",
        "RE_WORD = re.compile(r\"\"\"[\\#\\@\\w](['\\-]?\\w){2,24}\"\"\", re.UNICODE)\n",
        "\n",
        "all_stopwords = english_stopwords.union(corpus_stopwords)\n"
      ],
      "metadata": {
        "id": "4ozqsRCJ3fhi"
      },
      "execution_count": 10,
      "outputs": []
    },
    {
      "cell_type": "code",
      "source": [
        "# tokenize and stemming\n",
        "\n",
        "def tokenize_stemming(text):\n",
        "    \"\"\"\n",
        "    Remove stopword and stem the word\n",
        "\n",
        "    :param text: str\n",
        "\n",
        "    :return list of clean tokens after stemming\n",
        "    \"\"\"\n",
        "    list_token = []\n",
        "    english_stopwords = frozenset(stopwords.words('english'))\n",
        "    RE_WORD = re.compile(r\"\"\"[\\#\\@\\w](['\\-]?\\w){2,24}\"\"\", re.UNICODE)\n",
        "    stemmer = PorterStemmer()\n",
        "    tokens = [token.group() for token in RE_WORD.finditer(text.lower())]\n",
        "    for token in tokens:\n",
        "        if token not in english_stopwords:\n",
        "            list_token.append(stemmer.stem(token))\n",
        "    return list_token\n"
      ],
      "metadata": {
        "id": "bHV8owIN36vT"
      },
      "execution_count": 11,
      "outputs": []
    },
    {
      "cell_type": "markdown",
      "source": [
        "### **Inverted Index**"
      ],
      "metadata": {
        "id": "IgEoRFLEpNW9"
      }
    },
    {
      "cell_type": "code",
      "source": [],
      "metadata": {
        "id": "ajwIe1-ByBIp"
      },
      "execution_count": null,
      "outputs": []
    },
    {
      "cell_type": "markdown",
      "source": [
        "**term frequency**"
      ],
      "metadata": {
        "id": "7XYyqIl_pT9e"
      }
    },
    {
      "cell_type": "code",
      "source": [
        "# tf\n",
        "# normalizion by max frequency term\n",
        "\n",
        "def term_frequency(text, id):\n",
        "    ''' Count the frequency of each word in `text` (tf) that is not included in\n",
        "    `all_stopwords` and return entries that will go into our posting lists.\n",
        "    Parameters:\n",
        "    -----------\n",
        "        text: str\n",
        "            Text of one document\n",
        "        id: int\n",
        "            Document id\n",
        "    Returns:\n",
        "    --------\n",
        "        List of tuples\n",
        "            A list of (token, (doc_id, normalized_tf)) pairs\n",
        "            for example: [(\"Anarchism\", (12, 0.5)), ...]\n",
        "    '''\n",
        "    tokens = [token.group() for token in RE_WORD.finditer(text.lower())]\n",
        "\n",
        "    # Count the frequency of each word that is not a stopword\n",
        "    word_freq = {}\n",
        "    max_freq = 0\n",
        "    # print(tokens)\n",
        "    for token in tokens:\n",
        "        if token not in all_stopwords:\n",
        "            if token not in word_freq:\n",
        "                word_freq[token] = 1\n",
        "            else:\n",
        "                word_freq[token] += 1\n",
        "            # max_freq = max(max_freq, word_freq[token])\n",
        "\n",
        "\n",
        "    # Normalize the frequency of each word\n",
        "    normalized_word_freq = {}\n",
        "\n",
        "    for token, freq in word_freq.items():\n",
        "        normalized_freq = freq\n",
        "        normalized_word_freq[token] = normalized_freq\n",
        "\n",
        "    lst_tuples = [(token, (id, freq)) for token, freq in normalized_word_freq.items()]\n",
        "\n",
        "    return lst_tuples"
      ],
      "metadata": {
        "id": "GI51qvnPpYJs"
      },
      "execution_count": 12,
      "outputs": []
    },
    {
      "cell_type": "markdown",
      "source": [],
      "metadata": {
        "id": "vH7jSgfWg-kZ"
      }
    },
    {
      "cell_type": "code",
      "source": [
        "# test for word count\n",
        "text = \"This is a test to check the words count function actually count words\"\n",
        "id = 0\n",
        "print(term_frequency(text, id))\n",
        "word_count_results = term_frequency(text, id)\n",
        "assert word_count_results[0][0] == 'test'\n",
        "assert len(word_count_results) == 6\n",
        "assert word_count_results[2][1][1] == word_count_results[2][1][1]\n",
        "assert type(word_count_results[0][0]) == str\n",
        "assert type(word_count_results[0][1]) == tuple"
      ],
      "metadata": {
        "colab": {
          "base_uri": "https://localhost:8080/"
        },
        "id": "UE4V50DeK_hi",
        "outputId": "3080202a-d51c-4b0f-9a4d-b9fc8b610b81"
      },
      "execution_count": 13,
      "outputs": [
        {
          "output_type": "stream",
          "name": "stdout",
          "text": [
            "[('test', (0, 1)), ('check', (0, 1)), ('words', (0, 2)), ('count', (0, 2)), ('function', (0, 1)), ('actually', (0, 1))]\n"
          ]
        }
      ]
    },
    {
      "cell_type": "code",
      "source": [
        "def reduce_word_counts(unsorted_pl):\n",
        "  ''' Returns a sorted posting list by wiki_id.\n",
        "  Parameters:\n",
        "  -----------\n",
        "    unsorted_pl: list of tuples\n",
        "      A list of (wiki_id, tf) tuples\n",
        "  Returns:\n",
        "  --------\n",
        "    list of tuples\n",
        "      A sorted posting list.\n",
        "  '''\n",
        "  sorted_pl = sorted(unsorted_pl, key=lambda x: x[0])\n",
        "  return sorted_pl"
      ],
      "metadata": {
        "id": "WZZm-Jzhf6xx"
      },
      "execution_count": 17,
      "outputs": []
    },
    {
      "cell_type": "code",
      "source": [
        "word_counts = doc_text_pairs.flatMap(lambda x: term_frequency(x[0], x[1]))\n",
        "postings = word_counts.groupByKey().mapValues(reduce_word_counts)\n",
        "postings_filtered = postings.filter(lambda x: len(x[1])>10)\n"
      ],
      "metadata": {
        "id": "FnWICYyLCj8K"
      },
      "execution_count": 18,
      "outputs": []
    },
    {
      "cell_type": "markdown",
      "source": [
        "**df**\n"
      ],
      "metadata": {
        "id": "BBlcscEjrepn"
      }
    },
    {
      "cell_type": "code",
      "source": [
        "# df\n",
        "\n",
        "def calculate_df(postings):\n",
        "  ''' Takes a posting list RDD and calculate the df for each token.\n",
        "  Parameters:\n",
        "  -----------\n",
        "    postings: RDD\n",
        "      An RDD where each element is a (token, posting_list) pair.\n",
        "  Returns:\n",
        "  --------\n",
        "    RDD\n",
        "      An RDD where each element is a (token, df) pair.\n",
        "  '''\n",
        "  rdd_token_doc_freq = postings.map(lambda x: (x[0], len(x[1]))).reduceByKey(lambda a, b: a + b)\n",
        "\n",
        "  return rdd_token_doc_freq"
      ],
      "metadata": {
        "id": "t_g0xd1xsXR3"
      },
      "execution_count": 19,
      "outputs": []
    },
    {
      "cell_type": "markdown",
      "source": [
        "Doc len calc\n"
      ],
      "metadata": {
        "id": "wgdXIDOdgVT1"
      }
    },
    {
      "cell_type": "code",
      "source": [
        "# doc len\n",
        "\n",
        "def doc_lenght(text, doc_id):\n",
        "  tokens = tokenize_stemming(text)\n",
        "  return((id,len(tokens)))\n",
        "\n"
      ],
      "metadata": {
        "id": "KAqUbquGgSu1"
      },
      "execution_count": 20,
      "outputs": []
    },
    {
      "cell_type": "markdown",
      "source": [
        "## Partitioning and writing the index"
      ],
      "metadata": {
        "id": "pnD8GuIK_QCG"
      }
    },
    {
      "cell_type": "code",
      "source": [
        "NUM_BUCKETS = 124\n",
        "def token2bucket_id(token):\n",
        "  return int(_hash(token),16) % NUM_BUCKETS\n",
        "\n",
        "def partition_postings_and_write(postings):\n",
        "  ''' A function that partitions the posting lists into buckets, writes out\n",
        "  all posting lists in a bucket to disk, and returns the posting locations for\n",
        "  each bucket. Partitioning should be done through the use of `token2bucket`\n",
        "  above. Writing to disk should use the function  `write_a_posting_list`, a\n",
        "  static method implemented in inverted_index_colab.py under the InvertedIndex\n",
        "  class.\n",
        "  Parameters:\n",
        "  -----------\n",
        "    postings: RDD\n",
        "      An RDD where each item is a (w, posting_list) pair.\n",
        "  Returns:\n",
        "  --------\n",
        "    RDD\n",
        "      An RDD where each item is a posting locations dictionary for a bucket. The\n",
        "      posting locations maintain a list for each word of file locations and\n",
        "      offsets its posting list was written to. See `write_a_posting_list` for\n",
        "      more details.\n",
        "  '''\n",
        "  def map_to_buckets(pair):\n",
        "        word, posting_list = pair\n",
        "        bucket_id = token2bucket_id(word)\n",
        "        return bucket_id, [(word, posting_list)]\n",
        "\n",
        "  def reduce_to_disk(bucket, word_posting_lists):\n",
        "    # Write posting lists for the bucket to disk\n",
        "    posting_locs = InvertedIndex.write_a_posting_list((bucket, word_posting_lists))\n",
        "    return posting_locs\n",
        "\n",
        "  # Partition the postings into buckets\n",
        "  buckets = postings.map(map_to_buckets)\n",
        "\n",
        "  # Group postings by bucket ID\n",
        "  grouped_buckets = buckets.reduceByKey(lambda x, y: x + y)\n",
        "\n",
        "  # Write each bucket to disk and get posting locations\n",
        "  bucket_posting_locs = grouped_buckets.map(lambda x: reduce_to_disk(*x))\n",
        "\n",
        "  return bucket_posting_locs\n",
        "\n"
      ],
      "metadata": {
        "id": "Yb4IM8Cm_RUy"
      },
      "execution_count": 21,
      "outputs": []
    },
    {
      "cell_type": "markdown",
      "source": [
        "create an inverted index instance"
      ],
      "metadata": {
        "id": "ropuURws_cEK"
      }
    },
    {
      "cell_type": "code",
      "source": [
        "posting_locs_list = partition_postings_and_write(postings_filtered).collect()\n",
        "\n",
        "# merge the posting locations into a single dict and run more tests (5 points)\n",
        "super_posting_locs = defaultdict(list)\n",
        "for posting_loc in posting_locs_list:\n",
        "  for k, v in posting_loc.items():\n",
        "    super_posting_locs[k].extend(v)\n",
        "\n",
        "\n",
        "# df\n",
        "w2df = calculate_df(postings_filtered)\n",
        "w2df_dict = w2df.collectAsMap()\n",
        "\n",
        "# number of docs\n",
        "N = doc_text_pairs.count()\n",
        "\n",
        "# save each doc its len\n",
        "dl_rdd = doc_text_pairs.map(lambda x: (x[1], len(tokenize_stemming(x[0]))))\n",
        "dl = dl_rdd.collectAsMap()"
      ],
      "metadata": {
        "id": "m_veNr8zZx2E"
      },
      "execution_count": 22,
      "outputs": []
    },
    {
      "cell_type": "markdown",
      "source": [
        "Create an inverted index instance"
      ],
      "metadata": {
        "id": "ML9FV-QChJ_h"
      }
    },
    {
      "cell_type": "code",
      "source": [
        "# Create inverted index instance\n",
        "inverted = InvertedIndex()\n",
        "\n",
        "# Adding the posting locations dictionary to the inverted index\n",
        "inverted.posting_locs = super_posting_locs\n",
        "\n",
        "# Add the token - df dictionary to the inverted index\n",
        "inverted.df = w2df_dict\n",
        "\n",
        "inverted.N = N\n",
        "\n",
        "inverted.doc_len = dl\n",
        "\n",
        "# write the global stats out\n",
        "inverted.write_index('.', 'index')\n",
        "\n",
        "\n"
      ],
      "metadata": {
        "id": "xPQCPQ8Y_Z1W"
      },
      "execution_count": 23,
      "outputs": []
    },
    {
      "cell_type": "code",
      "source": [
        "TUPLE_SIZE = 6\n",
        "TF_MASK = 2 ** 16 - 1 # Masking the 16 low bits of an integer\n",
        "from contextlib import closing\n",
        "\n",
        "\n",
        "def read_posting_list(inverted, w):\n",
        "  with closing(MultiFileReader()) as reader:\n",
        "    locs = inverted.posting_locs[w]\n",
        "    b = reader.read(locs, inverted.df[w] * TUPLE_SIZE)\n",
        "    posting_list = []\n",
        "    for i in range(inverted.df[w]):\n",
        "      doc_id = int.from_bytes(b[i*TUPLE_SIZE:i*TUPLE_SIZE+4], 'big')\n",
        "      tf = int.from_bytes(b[i*TUPLE_SIZE+4:(i+1)*TUPLE_SIZE], 'big')\n",
        "      posting_list.append((doc_id, tf))\n",
        "    return posting_list"
      ],
      "metadata": {
        "id": "QLy52FcNwwZZ"
      },
      "execution_count": 24,
      "outputs": []
    },
    {
      "cell_type": "code",
      "source": [
        "## test the final index\n",
        "pl = read_posting_list(inverted, 'hello')\n",
        "print(pl)\n",
        "# assert pl[-3] == (2204, 2)\n",
        "# assert len(pl) == 18"
      ],
      "metadata": {
        "colab": {
          "base_uri": "https://localhost:8080/"
        },
        "id": "nDEaWrZR2ldM",
        "outputId": "00d01f6f-e1e9-4df7-a9b2-02724fafd9cc"
      },
      "execution_count": 25,
      "outputs": [
        {
          "output_type": "stream",
          "name": "stdout",
          "text": [
            "[(316, 1), (856, 3), (880, 1), (1140, 1), (1242, 7), (1335, 3), (1446, 1), (1451, 4), (1453, 10), (1456, 3), (1828, 1), (1969, 1), (2100, 4), (2126, 1), (2162, 2), (2217, 1), (2398, 1)]\n"
          ]
        }
      ]
    },
    {
      "cell_type": "code",
      "source": [
        "import builtins as pybuiltins\n",
        "\n",
        "\n",
        "\n",
        "# weight = tf*idf\n",
        "def calculate_tf_idf(index, term, tf, doc_id):\n",
        "  # doc_len =  doc_lenght(x[0], x[1])\n",
        "  tf_idf = (tf/index.doc_len[doc_id])* math.log2(index.N/index.df[term])\n",
        "  return tf_idf\n",
        "\n",
        "\n",
        "def cosine_similarity(query, index):\n",
        "    \"\"\" Returns: {doc_id:cosine score} \"\"\"\n",
        "\n",
        "    dict_cosine_sim = {}\n",
        "    doc_weights_dict = {}\n",
        "    query_dict = dict(term_frequency(query ,0))\n",
        "\n",
        "    # create lists of keys and values from the query_dict\n",
        "    query_list_keys = list(query_dict.keys())\n",
        "    query_list_values = list(query_dict.values())\n",
        "\n",
        "    # create list of items from index.df dictionery keys\n",
        "    index_df_list_keys = list(index.df.keys())\n",
        "\n",
        "\n",
        "    for term in query_list_keys:\n",
        "      w_term_query = (query_dict[term][1]/len(query))* math.log2(index.N/index.df[term])\n",
        "\n",
        "      if term in index_df_list_keys:\n",
        "        posting_lst = read_posting_list(index,term)\n",
        "        for doc_id, freq in posting_lst:\n",
        "          w_term_doc = calculate_tf_idf(index, term, freq, doc_id)\n",
        "          if doc_id in dict_cosine_sim.keys():\n",
        "            dict_cosine_sim[doc_id] += (w_term_doc)*(w_term_query)\n",
        "            doc_weights_dict[doc_id] += (w_term_doc) ** 2\n",
        "          else:\n",
        "            dict_cosine_sim[doc_id] = (w_term_doc)*(w_term_query)\n",
        "            doc_weights_dict[doc_id] = (w_term_doc) ** 2\n",
        "# ----------\n",
        "\n",
        "    ls = [value[1] ** 2 for value in query_list_values]\n",
        "    # print(dict_cosine_sim)\n",
        "    # print(doc_weights_dict)\n",
        "    # total_sum = pybuiltins.sum(ls)\n",
        "    # print(pybuiltins.sum(value[1] ** 2 for value in query_list_values))\n",
        "\n",
        "    # The dictionary - \"doc_weights_dict\" holds for each document the sum of the weight of each word (from the query) squared. ( sum(for each word i (Wij^2)) )\n",
        "    for doc_id in list(dict_cosine_sim.keys()):\n",
        "      Word_doc_id__weight = doc_weights_dict[doc_id];\n",
        "      dict_cosine_sim[doc_id] /= ( math.sqrt(pybuiltins.sum(value[1] ** 2 for value in query_list_values) * Word_doc_id__weight ))\n",
        "\n",
        "\n",
        "\n",
        "    sorted_docs = sorted(dict_cosine_sim.items(), key=lambda x: x[1], reverse=True)\n",
        "    # return sorted_docs\n",
        "\n",
        "    print(sorted_docs)\n",
        "    return dict_cosine_sim\n"
      ],
      "metadata": {
        "id": "XIffHuNRuvEd"
      },
      "execution_count": 126,
      "outputs": []
    },
    {
      "cell_type": "markdown",
      "source": [
        "Search body"
      ],
      "metadata": {
        "id": "vJxMPaGflmWC"
      }
    },
    {
      "cell_type": "code",
      "source": [
        "def search(query):\n",
        "  \"\"\" Returns: n best docs \"\"\"\n",
        "  # query_filterd = tokenize_stemming(query)\n",
        "  cosSim_score = cosine_similarity(query,inverted)\n",
        "  return cosSim_score\n"
      ],
      "metadata": {
        "id": "dq6KESz7li1Z"
      },
      "execution_count": 89,
      "outputs": []
    },
    {
      "cell_type": "code",
      "source": [
        "query = \"clarity\"\n",
        "res = search(query)\n",
        "# print(search)\n",
        "# print(inverted.doc_len)\n",
        "# result = search(query)\n",
        "# print(term_frequency(\"clarity\" ,0))\n",
        "# print(result)\n"
      ],
      "metadata": {
        "colab": {
          "base_uri": "https://localhost:8080/"
        },
        "id": "1HIeeakFl5B9",
        "outputId": "8c56e731-5307-4457-e0c8-f10f9d54a487"
      },
      "execution_count": 127,
      "outputs": [
        {
          "output_type": "stream",
          "name": "stdout",
          "text": [
            "[(1525, 0.8279798976028251), (573, 0.827979897602825), (593, 0.827979897602825), (653, 0.827979897602825), (752, 0.827979897602825), (852, 0.827979897602825), (874, 0.827979897602825), (1130, 0.827979897602825), (1171, 0.827979897602825), (1500, 0.827979897602825), (1814, 0.827979897602825), (2032, 0.827979897602825), (2144, 0.827979897602825), (2161, 0.827979897602825), (2195, 0.827979897602825), (2204, 0.827979897602825), (2303, 0.827979897602825), (2414, 0.8279798976028249)]\n"
          ]
        }
      ]
    },
    {
      "cell_type": "code",
      "source": [
        "## test the final index\n",
        "res_dict = get_best_docs(inverted, 'hello')\n",
        "print(res_dict)"
      ],
      "metadata": {
        "colab": {
          "base_uri": "https://localhost:8080/",
          "height": 176
        },
        "id": "WgkIhl1SClrf",
        "outputId": "0c824572-c691-4456-8dc6-7284173a33e5"
      },
      "execution_count": 75,
      "outputs": [
        {
          "output_type": "error",
          "ename": "NameError",
          "evalue": "name 'get_best_docs' is not defined",
          "traceback": [
            "\u001b[0;31m---------------------------------------------------------------------------\u001b[0m",
            "\u001b[0;31mNameError\u001b[0m                                 Traceback (most recent call last)",
            "\u001b[0;32m<ipython-input-75-89328f6dfced>\u001b[0m in \u001b[0;36m<cell line: 2>\u001b[0;34m()\u001b[0m\n\u001b[1;32m      1\u001b[0m \u001b[0;31m## test the final index\u001b[0m\u001b[0;34m\u001b[0m\u001b[0;34m\u001b[0m\u001b[0m\n\u001b[0;32m----> 2\u001b[0;31m \u001b[0mres_dict\u001b[0m \u001b[0;34m=\u001b[0m \u001b[0mget_best_docs\u001b[0m\u001b[0;34m(\u001b[0m\u001b[0minverted\u001b[0m\u001b[0;34m,\u001b[0m \u001b[0;34m'hello'\u001b[0m\u001b[0;34m)\u001b[0m\u001b[0;34m\u001b[0m\u001b[0;34m\u001b[0m\u001b[0m\n\u001b[0m\u001b[1;32m      3\u001b[0m \u001b[0mprint\u001b[0m\u001b[0;34m(\u001b[0m\u001b[0mres_dict\u001b[0m\u001b[0;34m)\u001b[0m\u001b[0;34m\u001b[0m\u001b[0;34m\u001b[0m\u001b[0m\n",
            "\u001b[0;31mNameError\u001b[0m: name 'get_best_docs' is not defined"
          ]
        }
      ]
    },
    {
      "cell_type": "markdown",
      "source": [
        "**search body**"
      ],
      "metadata": {
        "id": "bsw3Y5FgE-L_"
      }
    }
  ]
}